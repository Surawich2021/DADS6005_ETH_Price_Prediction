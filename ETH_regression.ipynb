{
 "cells": [
  {
   "cell_type": "code",
   "execution_count": 1,
   "id": "15baccdc",
   "metadata": {},
   "outputs": [
    {
     "name": "stderr",
     "output_type": "stream",
     "text": [
      "C:\\Users\\surawich\\AppData\\Roaming\\Python\\Python37\\site-packages\\ipykernel_launcher.py:2: UserWarning: \n",
      "The dash_html_components package is deprecated. Please replace\n",
      "`import dash_html_components as html` with `from dash import html`\n",
      "  \n",
      "C:\\Users\\surawich\\AppData\\Roaming\\Python\\Python37\\site-packages\\ipykernel_launcher.py:3: UserWarning: \n",
      "The dash_core_components package is deprecated. Please replace\n",
      "`import dash_core_components as dcc` with `from dash import dcc`\n",
      "  This is separate from the ipykernel package so we can avoid doing imports until\n",
      "C:\\Users\\surawich\\Anaconda3\\lib\\site-packages\\pyarrow\\compute.py:198: RuntimeWarning: Python binding for CumulativeSumOptions not exposed\n",
      "  .format(class_name), RuntimeWarning)\n",
      "C:\\Users\\surawich\\Anaconda3\\lib\\site-packages\\pyarrow\\compute.py:198: RuntimeWarning: Python binding for RankOptions not exposed\n",
      "  .format(class_name), RuntimeWarning)\n"
     ]
    },
    {
     "data": {
      "text/html": [
       "\n",
       "        <iframe\n",
       "            width=\"100%\"\n",
       "            height=\"650\"\n",
       "            src=\"http://127.0.0.1:8050/\"\n",
       "            frameborder=\"0\"\n",
       "            allowfullscreen\n",
       "            \n",
       "        ></iframe>\n",
       "        "
      ],
      "text/plain": [
       "<IPython.lib.display.IFrame at 0x111c2df12c8>"
      ]
     },
     "metadata": {},
     "output_type": "display_data"
    }
   ],
   "source": [
    "import dash\n",
    "import dash_html_components as html\n",
    "import dash_core_components as dcc\n",
    "from dash.dependencies import Input, Output\n",
    "import requests\n",
    "import datetime as dt\n",
    "import numpy as np\n",
    "import plotly.graph_objects as go\n",
    "import pandas as pd\n",
    "from sklearn.linear_model import LinearRegression\n",
    "\n",
    "coin = 'ETHUSDT'\n",
    "key = \"https://api.binance.com/api/v3/ticker?symbol=\" + coin\n",
    "\n",
    "app = dash.Dash(__name__, update_title=None)\n",
    "\n",
    "totalErr = []\n",
    "average_size = 10\n",
    "errList = []\n",
    "priceList = []\n",
    "predictList = []\n",
    "dateList = []\n",
    "rmseList = []\n",
    "\n",
    "model = LinearRegression()\n",
    "\n",
    "app.layout = html.Div(\n",
    "    [\n",
    "        dcc.Graph(id='price-graph'),\n",
    "        dcc.Graph(id='rmse-graph'),\n",
    "        dcc.Interval(id=\"interval\", interval=1 * 300)\n",
    "    ]\n",
    ")\n",
    "\n",
    "@app.callback(\n",
    "    [Output('price-graph', 'figure'), Output('rmse-graph', 'figure')],\n",
    "    [Input('interval', 'n_intervals')])\n",
    "def update_data(n_intervals):\n",
    "    global totalErr, errList, priceList, predictList, dateList, rmseList\n",
    "    data = requests.get(key).json()\n",
    "    price = float(data['lastPrice'])\n",
    "    closeTime = data['closeTime']\n",
    "    my_datetime = dt.datetime.fromtimestamp(closeTime / 1000)\n",
    "\n",
    "    dateList.append(my_datetime)\n",
    "    priceList.append(price)\n",
    "\n",
    "    X = np.array(range(len(priceList))).reshape(-1, 1)\n",
    "    y = np.array(priceList)\n",
    "\n",
    "    if len(priceList) > 1:\n",
    "        model.fit(X, y)\n",
    "        predicted = model.predict(np.array([[len(priceList)]]))[0]\n",
    "    else:\n",
    "        predicted = price\n",
    "\n",
    "    predictList.append(predicted)\n",
    "\n",
    "    err = price - predicted\n",
    "    square_err = err * err\n",
    "    totalErr.append(square_err)\n",
    "\n",
    "    if len(totalErr) >= average_size:\n",
    "        mse = sum(totalErr) / average_size\n",
    "        rmse = np.sqrt(mse)\n",
    "        rmseList.append(rmse)\n",
    "        totalErr.clear()\n",
    "\n",
    "    df_price = pd.DataFrame(list(zip(dateList, priceList, predictList)), columns=['datetime', 'price', 'predicted'])\n",
    "    df_rmse = pd.DataFrame(list(zip(dateList[-len(rmseList):], rmseList)), columns=['datetime', 'rmse'])\n",
    "\n",
    "    price_figure = {\n",
    "        'data': [\n",
    "            go.Scatter(x=df_price['datetime'], y=df_price['price'], name='Actual Price', mode='lines+markers'),\n",
    "            go.Scatter(x=df_price['datetime'], y=df_price['predicted'], name='Predicted Price', mode='lines+markers')\n",
    "        ]\n",
    "    }\n",
    "\n",
    "    rmse_figure = {\n",
    "        'data': [\n",
    "            go.Scatter(x=df_rmse['datetime'], y=df_rmse['rmse'], name='RMSE', mode='lines+markers')\n",
    "        ]\n",
    "    }\n",
    "\n",
    "    return price_figure, rmse_figure\n",
    "\n",
    "app.run_server()\n"
   ]
  },
  {
   "cell_type": "code",
   "execution_count": null,
   "id": "77659ccf",
   "metadata": {},
   "outputs": [],
   "source": []
  }
 ],
 "metadata": {
  "kernelspec": {
   "display_name": "Python 3 (ipykernel)",
   "language": "python",
   "name": "python3"
  },
  "language_info": {
   "codemirror_mode": {
    "name": "ipython",
    "version": 3
   },
   "file_extension": ".py",
   "mimetype": "text/x-python",
   "name": "python",
   "nbconvert_exporter": "python",
   "pygments_lexer": "ipython3",
   "version": "3.7.10"
  }
 },
 "nbformat": 4,
 "nbformat_minor": 5
}
